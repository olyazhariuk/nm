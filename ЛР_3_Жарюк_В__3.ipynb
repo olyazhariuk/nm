{
  "nbformat": 4,
  "nbformat_minor": 0,
  "metadata": {
    "colab": {
      "provenance": [],
      "include_colab_link": true
    },
    "kernelspec": {
      "name": "python3",
      "display_name": "Python 3"
    },
    "language_info": {
      "name": "python"
    }
  },
  "cells": [
    {
      "cell_type": "markdown",
      "metadata": {
        "id": "view-in-github",
        "colab_type": "text"
      },
      "source": [
        "<a href=\"https://colab.research.google.com/github/olyazhariuk/nm/blob/main/%D0%9B%D0%A0_3_%D0%96%D0%B0%D1%80%D1%8E%D0%BA_%D0%92__3.ipynb\" target=\"_parent\"><img src=\"https://colab.research.google.com/assets/colab-badge.svg\" alt=\"Open In Colab\"/></a>"
      ]
    },
    {
      "cell_type": "markdown",
      "source": [
        "Жарюк О. Варіант 3"
      ],
      "metadata": {
        "id": "HlvFbYQzhdIu"
      }
    },
    {
      "cell_type": "markdown",
      "source": [
        "1. Метод ділення навпіл."
      ],
      "metadata": {
        "id": "VgrW9zRY0dVt"
      }
    },
    {
      "cell_type": "code",
      "execution_count": 1,
      "metadata": {
        "colab": {
          "base_uri": "https://localhost:8080/"
        },
        "id": "iOTNXySVyeHy",
        "outputId": "c0d3e680-ac55-462e-fa34-d3c57de0aed2"
      },
      "outputs": [
        {
          "output_type": "stream",
          "name": "stdout",
          "text": [
            "Результати обчислень\n",
            "\n",
            "          a      F(a)         c      F(c)       b      F(b)\n",
            "0 -3.000000  0.977954 -2.000000  1.135204 -1.0000 -0.454649\n",
            "1 -2.000000  1.135204 -1.500000 -0.123480 -1.0000 -0.454649\n",
            "2 -2.000000  1.135204 -1.750000  0.405593 -1.5000 -0.123480\n",
            "3 -1.750000  0.405593 -1.625000  0.109040 -1.5000 -0.123480\n",
            "4 -1.625000  0.109040 -1.562500 -0.015587 -1.5000 -0.123480\n",
            "5 -1.625000  0.109040 -1.593750  0.044659 -1.5625 -0.015587\n",
            "6 -1.593750  0.044659 -1.578125  0.014015 -1.5625 -0.015587\n",
            "7 -1.578125  0.014015 -1.570312 -0.000917 -1.5625 -0.015587\n",
            "\n",
            "В точці с =  -1.5703125 , f(c) =  -0.0009171268569415665\n"
          ]
        }
      ],
      "source": [
        "import numpy as np\n",
        "import pandas as pd\n",
        "\n",
        "# Визначаємо функцію\n",
        "def f (x):\n",
        "    y = np.cos(x)*np.sin(x)*(x**2+x+1)\n",
        "    return y\n",
        "# Визначаємо границі відрізку\n",
        "a, b = -3, -1\n",
        "# Визначаємо точність розв'язку\n",
        "eps = 0.001\n",
        "# Поділяємо відрізок навпіл\n",
        "c = (a+b)/2\n",
        "# Зберігаємо результати обчислень\n",
        "data_A = [a]\n",
        "data_B = [b]\n",
        "data_C = [c]\n",
        "data_F_A = [f(a)]\n",
        "data_F_B = [f(b)]\n",
        "data_F_C = [f(c)]\n",
        "# Перевіряємо досягнення точності\n",
        "while np.abs(f(c)) > eps:\n",
        "    # Звужуємо відрізок\n",
        "    if np.sign(f(c)) == np.sign(f(a)):\n",
        "        a = c\n",
        "    else:\n",
        "        b = c\n",
        "    # Поділяємо відрізок навпіл\n",
        "    c = (a+b)/2\n",
        "    # Зберігаємо результати обчислень\n",
        "    data_A.append(a)\n",
        "    data_B.append(b)\n",
        "    data_C.append(c)\n",
        "    data_F_A.append(f(a))\n",
        "    data_F_B.append(f(b))\n",
        "    data_F_C.append(f(c))\n",
        "# Відображаємо результати обчислень\n",
        "print('Результати обчислень')\n",
        "print()\n",
        "data = pd.DataFrame({'a': data_A,\n",
        "                     'F(a)': data_F_A,\n",
        "                     'c': data_C,\n",
        "                     'F(c)': data_F_C,\n",
        "                     'b': data_B,\n",
        "                     'F(b)': data_F_B})\n",
        "print(data)\n",
        "# Відображаємо наближений корінь рівняння\n",
        "print()\n",
        "print('В точці с = ', c, ', f(c) = ', f(c))"
      ]
    },
    {
      "cell_type": "markdown",
      "source": [
        "2. Метод ділення навпіл"
      ],
      "metadata": {
        "id": "5hYa7ucn0PEN"
      }
    },
    {
      "cell_type": "code",
      "source": [
        "import numpy as np\n",
        "import scipy.optimize as sp\n",
        "\n",
        "def f(x):\n",
        "    y = np.cos(x)*np.sin(x)*(x**2+x+1)\n",
        "    return y\n",
        "\n",
        "a, b = -3, -1\n",
        "eps = 1.e-3\n",
        "\n",
        "x = sp.bisect(f, a, b,(),eps) #функція для метода\n",
        "\n",
        "print('The approximate solution x is:', x)\n",
        "print('And the value f(x) is:', f(x))"
      ],
      "metadata": {
        "colab": {
          "base_uri": "https://localhost:8080/"
        },
        "id": "ML3KEw5q0H1e",
        "outputId": "5ea683a1-c5b8-4e3f-ce4a-0fb7d1188e8c"
      },
      "execution_count": 2,
      "outputs": [
        {
          "output_type": "stream",
          "name": "stdout",
          "text": [
            "The approximate solution x is: -1.5712890625\n",
            "And the value f(x) is: 0.0009350448126615916\n"
          ]
        }
      ]
    },
    {
      "cell_type": "markdown",
      "source": [
        "3. Метод хорд"
      ],
      "metadata": {
        "id": "sYf0IvR41ufd"
      }
    },
    {
      "cell_type": "code",
      "source": [
        "import numpy as np\n",
        "import pandas as pd\n",
        "# Визначаємо функцію\n",
        "def f(x):\n",
        "    y = np.cos(x)*np.sin(x)*(x**2+x+1)\n",
        "    return y\n",
        "# Визначаємо межі відрізку\n",
        "a, b = -3, -1\n",
        "# Визначаємо точність розв'язку\n",
        "eps = 0.001\n",
        "# Точка, де хорда перетинає вісь 0x\n",
        "c = (f(a)*b-a*f(b))/(f(a)-f(b))\n",
        "\n",
        "# Зберігаємо результати обчислень\n",
        "data_A = [a]\n",
        "data_B = [b]\n",
        "data_C = [c]\n",
        "data_F_A = [f(a)]\n",
        "data_F_B = [f(b)]\n",
        "data_F_C = [f(c)]\n",
        "# Перевіряємо досягнення точності\n",
        "while np.abs(f(c)) > eps:\n",
        "    # Звужуємо відрізок\n",
        "    if np.sign(f(c)) == np.sign(f(a)):\n",
        "        a = c\n",
        "    else:\n",
        "        b = c\n",
        "    # Точка, де хорда перетинає вісь 0x\n",
        "    c = (f(a)*b-a*f(b))/(f(a)-f(b))\n",
        "    # Зберігаємо результати обчислень\n",
        "    data_A.append(a)\n",
        "    data_B.append(b)\n",
        "    data_C.append(c)\n",
        "    data_F_A.append(f(a))\n",
        "    data_F_B.append(f(b))\n",
        "    data_F_C.append(f(c))\n",
        "# Відображаємо результати обчислень\n",
        "print('Результати обчислень')\n",
        "print()\n",
        "data = pd.DataFrame({'a': data_A, 'F(a)': data_F_A,\n",
        "                     'c': data_C, 'F(c)': data_F_C,\n",
        "                     'b': data_B, 'F(b)': data_F_B})\n",
        "print(data)\n",
        "# Відображаємо наближений корінь рівняння\n",
        "print()\n",
        "print('В точці с = ', c, ', f(c) = ', f(c))"
      ],
      "metadata": {
        "colab": {
          "base_uri": "https://localhost:8080/"
        },
        "id": "3p6i5xHK1y3l",
        "outputId": "b90bdad7-b023-4dc0-955d-9431f7210a61"
      },
      "execution_count": 3,
      "outputs": [
        {
          "output_type": "stream",
          "name": "stdout",
          "text": [
            "Результати обчислень\n",
            "\n",
            "          a      F(a)         c      F(c)         b      F(b)\n",
            "0 -3.000000  0.977954 -1.634717  0.129889 -1.000000 -0.454649\n",
            "1 -1.634717  0.129889 -1.493678 -0.133455 -1.000000 -0.454649\n",
            "2 -1.634717  0.129889 -1.565152 -0.010636 -1.493678 -0.133455\n",
            "3 -1.634717  0.129889 -1.570418 -0.000718 -1.565152 -0.010636\n",
            "\n",
            "В точці с =  -1.5704175737258015 , f(c) =  -0.0007180376446871882\n"
          ]
        }
      ]
    },
    {
      "cell_type": "markdown",
      "source": [
        "4. Метод Ньютона (дотичних)"
      ],
      "metadata": {
        "id": "40blPBSK2Cdm"
      }
    },
    {
      "cell_type": "code",
      "source": [
        "import numpy as np\n",
        "import pandas as pd\n",
        "# Визначаємо функцію\n",
        "def f(x):\n",
        "    y = np.cos(x)*np.sin(x)*(x**2+x+1)\n",
        "    return y\n",
        "# Визначаємо першу похідну\n",
        "def df(x):\n",
        "    y1 = -(x**2+x+1)*(np.sin(x))**2\n",
        "    y2 = (x**2+x+1)*(np.cos(x))**2\n",
        "    y3 = (2*x+1)*np.sin(x)*np.cos(x)\n",
        "    y = y1+y2+y3\n",
        "    return y\n",
        "# Визначаємо початкову точку\n",
        "c = -1.4\n",
        "# Визначаємо точність розв'язку\n",
        "eps = 0.001\n",
        "# Зберігаємо результати обчислень\n",
        "data_C = [c]\n",
        "data_F_C = [f(c)]\n",
        "# Перевіряємо досягнення точності\n",
        "while np.abs(f(c)) > eps:\n",
        "    # Точка, де дотична перетинає вісь 0x\n",
        "    c -= f(c)/df(c)\n",
        "    # Зберігаємо результати обчислень\n",
        "    data_C.append(c)\n",
        "    data_F_C.append(f(c))\n",
        "# Відображаємо результати обчислень\n",
        "print('Результати обчислень')\n",
        "print()\n",
        "data = pd.DataFrame({'c': data_C, 'F(c)': data_F_C})\n",
        "print(data)\n",
        "# Відображаємо наближений корінь рівняння\n",
        "print()\n",
        "print('В точці с = ', c, ', f(c) = ', f(c))"
      ],
      "metadata": {
        "colab": {
          "base_uri": "https://localhost:8080/"
        },
        "id": "WeGQjbjW2HDz",
        "outputId": "ed2806e8-6acf-4058-8216-a3233f32adbd"
      },
      "execution_count": 4,
      "outputs": [
        {
          "output_type": "stream",
          "name": "stdout",
          "text": [
            "Результати обчислень\n",
            "\n",
            "          c      F(c)\n",
            "0 -1.400000 -0.261291\n",
            "1 -1.623636  0.106144\n",
            "2 -1.573564  0.005266\n",
            "3 -1.570805  0.000016\n",
            "\n",
            "В точці с =  -1.5708049170979717 , f(c) =  1.6292567852764437e-05\n"
          ]
        }
      ]
    },
    {
      "cell_type": "markdown",
      "source": [
        "5. Метод Ньютона (дотичних)"
      ],
      "metadata": {
        "id": "qjI38bTp0xCo"
      }
    },
    {
      "cell_type": "code",
      "source": [
        "import numpy as np\n",
        "import scipy.optimize as sp\n",
        "\n",
        "def f(x):\n",
        "    y = np.cos(x)*np.sin(x)*(x**2+x+1)\n",
        "    return y\n",
        "\n",
        "def df(x):# Обчислення похідної\n",
        "    y1 = -(x**2+x+1)*(np.sin(x))**2\n",
        "    y2 = (x**2+x+1)*(np.cos(x))**2\n",
        "    y3 = (2*x+1)*np.sin(x)*np.cos(x)\n",
        "    y = y1+y2+y3\n",
        "    return y\n",
        "x0, x1, x2, x3, x4 = -1.4, 1.4, -3.2, 3.2, 0.5\n",
        "x0 = -1.4\n",
        "x1 = 1.4\n",
        "x2 = -3.2\n",
        "x3 = 3.2\n",
        "x4 = 0.5\n",
        "\n",
        "x_0 = sp.newton(f, x0, df, tol=1.e-3, maxiter=50)\n",
        "x_1 = sp.newton(f, x1, df, tol=1.e-3, maxiter=50)\n",
        "\n",
        "x_2 = sp.newton(f, x2, df, tol=1.e-3, maxiter=50)\n",
        "x_3 = sp.newton(f, x3, df, tol=1.e-3, maxiter=50)\n",
        "\n",
        "x_4 = sp.newton(f, x4, df, tol=1.e-3, maxiter=50)"
      ],
      "metadata": {
        "id": "AonZxq_H0m6-"
      },
      "execution_count": 6,
      "outputs": []
    },
    {
      "cell_type": "code",
      "source": [
        "print('The approximate solution x is:', x_0)\n",
        "print('And the value f(x_0) is:', f(x_0))\n",
        "\n",
        "print('The approximate solution x is:', x_1)\n",
        "print('And the value f(x_0) is:', f(x_1))\n",
        "\n",
        "print('The approximate solution x is:', x_2)\n",
        "print('And the value f(x_0) is:', f(x_2))\n",
        "\n",
        "print('The approximate solution x is:', x_3)\n",
        "print('And the value f(x_0) is:', f(x_3))\n",
        "\n",
        "print('The approximate solution x is:', x_4)\n",
        "print('And the value f(x_0) is:', f(x_4))"
      ],
      "metadata": {
        "colab": {
          "base_uri": "https://localhost:8080/"
        },
        "id": "8mmyxkBCB0BZ",
        "outputId": "afb161e5-78a8-40a5-df25-f296c8f47a79"
      },
      "execution_count": 7,
      "outputs": [
        {
          "output_type": "stream",
          "name": "stdout",
          "text": [
            "The approximate solution x is: -1.5707963268782201\n",
            "And the value f(x_0) is: 1.5803176499052036e-10\n",
            "The approximate solution x is: 1.5707963267958693\n",
            "And the value f(x_0) is: -4.9007361645997675e-12\n",
            "The approximate solution x is: -3.1415926535944303\n",
            "And the value f(x_0) is: -3.5835231468970716e-11\n",
            "The approximate solution x is: 3.1415926535904006\n",
            "And the value f(x_0) is: 8.510283038202437e-12\n",
            "The approximate solution x is: 2.127875903690929e-09\n",
            "And the value f(x_0) is: 2.127875908218785e-09\n"
          ]
        }
      ]
    },
    {
      "cell_type": "markdown",
      "source": [
        "![image.png](data:image/png;base64,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)"
      ],
      "metadata": {
        "id": "Zew-ssaQAwHX"
      }
    },
    {
      "cell_type": "markdown",
      "source": [
        " # Знаходження коренів рівняння за допомогою бібліотеки SymPy"
      ],
      "metadata": {
        "id": "pvK9N9TH1QD-"
      }
    },
    {
      "cell_type": "code",
      "source": [
        "import sympy as sym\n",
        "\n",
        "x = sym.Symbol('x')\n",
        "\n",
        "y = sym.cos(x)*sym.sin(x)*(x**2+x+1)\n",
        "\n",
        "s = sym.solve(y, x)\n",
        "\n",
        "print(s)"
      ],
      "metadata": {
        "colab": {
          "base_uri": "https://localhost:8080/"
        },
        "id": "PuAp1WCr08qt",
        "outputId": "58c79730-33e5-4da8-e75c-4d66274ae3a5"
      },
      "execution_count": 10,
      "outputs": [
        {
          "output_type": "stream",
          "name": "stdout",
          "text": [
            "[0, pi/2, pi, 3*pi/2, -1/2 - sqrt(3)*I/2, -1/2 + sqrt(3)*I/2]\n"
          ]
        }
      ]
    },
    {
      "cell_type": "code",
      "source": [
        "import sympy as sym\n",
        "\n",
        "x, a, b, c = sym.symbols('x, a, b, c')\n",
        "\n",
        "y = a * x**2 + b * x + c\n",
        "\n",
        "s = sym.solve(y, x)\n",
        "\n",
        "print(s)"
      ],
      "metadata": {
        "colab": {
          "base_uri": "https://localhost:8080/"
        },
        "id": "Y0d-uHtp1c7r",
        "outputId": "4137db96-5903-40d6-cc2e-b39043e81cd8"
      },
      "execution_count": 9,
      "outputs": [
        {
          "output_type": "stream",
          "name": "stdout",
          "text": [
            "[(-b - sqrt(-4*a*c + b**2))/(2*a), (-b + sqrt(-4*a*c + b**2))/(2*a)]\n"
          ]
        }
      ]
    },
    {
      "cell_type": "markdown",
      "source": [],
      "metadata": {
        "id": "mk1oBvYj1GC2"
      }
    },
    {
      "cell_type": "code",
      "source": [
        "!pip install numdifftools"
      ],
      "metadata": {
        "colab": {
          "base_uri": "https://localhost:8080/"
        },
        "id": "yiLJNuM3Cq0-",
        "outputId": "535d178b-4506-4baf-a130-7e730e38a65f"
      },
      "execution_count": 11,
      "outputs": [
        {
          "output_type": "stream",
          "name": "stdout",
          "text": [
            "Collecting numdifftools\n",
            "  Downloading numdifftools-0.9.41-py2.py3-none-any.whl.metadata (39 kB)\n",
            "Requirement already satisfied: numpy>=1.9 in /usr/local/lib/python3.12/dist-packages (from numdifftools) (2.0.2)\n",
            "Requirement already satisfied: scipy>=0.8 in /usr/local/lib/python3.12/dist-packages (from numdifftools) (1.16.2)\n",
            "Downloading numdifftools-0.9.41-py2.py3-none-any.whl (100 kB)\n",
            "\u001b[2K   \u001b[90m━━━━━━━━━━━━━━━━━━━━━━━━━━━━━━━━━━━━━━━━\u001b[0m \u001b[32m100.2/100.2 kB\u001b[0m \u001b[31m4.7 MB/s\u001b[0m eta \u001b[36m0:00:00\u001b[0m\n",
            "\u001b[?25hInstalling collected packages: numdifftools\n",
            "Successfully installed numdifftools-0.9.41\n"
          ]
        }
      ]
    },
    {
      "cell_type": "code",
      "source": [
        "#Лабораторна робота 2\n",
        "#Відокремлення коренів\n",
        "import numpy as np\n",
        "import numdifftools as nd\n",
        "\n",
        "def f(x):\n",
        "    return 6*x**4 + 4*x**3 + x**2 + x - 10\n",
        "\n",
        "\n",
        "def find_segments(): #відокремлюємо корені\n",
        "    search_range = np.arange(-5, 5, 1)\n",
        "\n",
        "    a = None\n",
        "    previous_x = None\n",
        "    current_x  = None\n",
        "    segments = []\n",
        "\n",
        "    for x in search_range:\n",
        "        x = round(x, 4)\n",
        "        current_x = f(x)\n",
        "        if previous_x != None and previous_x * current_x < 0:\n",
        "            segments.append((a, x))\n",
        "        a = x\n",
        "        previous_x = current_x\n",
        "    return segments\n",
        "\n",
        "segments = find_segments()\n",
        "for a, b in segments:\n",
        "    print(f'Found segment:  [{a}, {b}]')\n"
      ],
      "metadata": {
        "colab": {
          "base_uri": "https://localhost:8080/"
        },
        "id": "L-9dn4npCso-",
        "outputId": "a64849a3-698a-4304-f155-96bcb91e35a4"
      },
      "execution_count": null,
      "outputs": [
        {
          "output_type": "stream",
          "name": "stdout",
          "text": [
            "Found segment:  [-2, -1]\n",
            "Found segment:  [0, 1]\n"
          ]
        }
      ]
    },
    {
      "cell_type": "code",
      "source": [
        "import numpy as np\n",
        "import matplotlib.pyplot as plt\n",
        "\n",
        "# Визначення функції\n",
        "def f(x):\n",
        "    return 6*x**4 + 4*x**3 + x**2 + x - 10\n",
        "\n",
        "# Генерація значень x\n",
        "x = np.linspace(-4, 4, 100)\n",
        "\n",
        "# Генерація значень y\n",
        "y = f(x)\n",
        "\n",
        "# Побудова графіка\n",
        "plt.figure(figsize=(8, 6))\n",
        "plt.plot(x, y, label='6*x^4 + 4*x^3 + x^2 + x - 10', color='blue')\n",
        "plt.title('Графік функції 6*x^4 + 4*x^3 + x^2 + x - 10')\n",
        "plt.xlabel('x')\n",
        "plt.ylabel('f(x)')\n",
        "\n",
        "# Додавання осей з стрілками\n",
        "plt.axhline(0, color='black', linewidth=0.5)\n",
        "plt.axvline(0, color='black', linewidth=0.5)\n",
        "\n",
        "plt.text(2.05, -4, 'x', ha='center', va='center')\n",
        "plt.text(-0.3, 190, 'y', ha='center', va='center')\n",
        "\n",
        "plt.grid(True)\n",
        "plt.legend()\n",
        "plt.show()\n"
      ],
      "metadata": {
        "colab": {
          "base_uri": "https://localhost:8080/",
          "height": 564
        },
        "id": "7zUI3d1xZXar",
        "outputId": "ae00cc51-18ec-4933-a940-1aacb48271d1"
      },
      "execution_count": null,
      "outputs": [
        {
          "output_type": "display_data",
          "data": {
            "text/plain": [
              "<Figure size 800x600 with 1 Axes>"
            ],
            "image/png": "[encoded data removed]"
          },
          "metadata": {}
        }
      ]
    },
    {
      "cell_type": "markdown",
      "source": [
        "![image.png](data:image/png;base64,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)"
      ],
      "metadata": {
        "id": "ildWPTfnuEth"
      }
    },
    {
      "cell_type": "code",
      "source": [
        "#Лабораторна робота. Метод половинного ділення, хорд\n",
        "\n",
        "def rec(a, b, eps):  # метод половинного ділення\n",
        "    while (np.abs(a - b) > eps):\n",
        "        if f(a) * f((a + b) / 2) < 0:\n",
        "            b = (a + b) / 2\n",
        "        else:\n",
        "            a = (a + b) / 2\n",
        "        x = (a + b) / 2\n",
        "\n",
        "    print('x= ', round(x, 5), '  -   Half division method')\n"
      ],
      "metadata": {
        "id": "BgjK94O9Cfxe"
      },
      "execution_count": null,
      "outputs": []
    },
    {
      "cell_type": "code",
      "source": [
        "def hord(a, b, eps):  # метод хорд\n",
        "    derivative_f = nd.Derivative(f, n=2)\n",
        "    if f(a) * derivative_f(a) > 0:\n",
        "        x0 = a\n",
        "        xi = b\n",
        "    else:\n",
        "        x0 = b\n",
        "        xi = a\n",
        "    xi_1 = xi - (xi - x0) * f(xi) / (f(xi) - f(x0))\n",
        "    while (np.abs(xi_1 - xi) > eps):\n",
        "        xi = xi_1\n",
        "        xi_1 = xi - (xi - x0) * f(xi) / (f(xi) - f(x0))\n",
        "    print('x= ', round(xi_1, 5), '  -   Chord method')\n"
      ],
      "metadata": {
        "id": "Sz_KWVf7D2tL"
      },
      "execution_count": null,
      "outputs": []
    },
    {
      "cell_type": "code",
      "source": [
        "if __name__ == \"__main__\":\n",
        "    a1, b1 = -2, -1\n",
        "    a2, b2 = 0, 1\n",
        "    eps = 0.0001\n",
        "    print(\"Розв'язки на відрізку [-2,-1]\")\n",
        "    rec(a1, b1, eps)\n",
        "    hord(a1, b1, eps)\n",
        "    print(\"\\n Розв'язки на відрізку [0,1]\")\n",
        "    rec(a2, b2, eps)\n",
        "    hord(a2, b2, eps)"
      ],
      "metadata": {
        "id": "upx7R4yoFZj_",
        "outputId": "ea613412-bd3b-4821-dbc1-0a550962cb07",
        "colab": {
          "base_uri": "https://localhost:8080/"
        }
      },
      "execution_count": null,
      "outputs": [
        {
          "output_type": "stream",
          "name": "stdout",
          "text": [
            "Розв'язки на відрізку [-2,-1]\n",
            "x=  -1.3353   -   Half division method\n",
            "x=  -1.3352   -   Chord method\n",
            "\n",
            " Розв'язки на відрізку [0,1]\n",
            "x=  0.94504   -   Half division method\n",
            "x=  0.94504   -   Chord method\n"
          ]
        }
      ]
    },
    {
      "cell_type": "code",
      "source": [
        "import sympy as sym\n",
        "\n",
        "x, a, b, c = sym.symbols('x, a, b, c')\n",
        "f = 6*x**4 + 4*x**3 + x**2 + x - 10\n",
        "s = sym.solve(f, x)\n",
        "print(s)"
      ],
      "metadata": {
        "colab": {
          "base_uri": "https://localhost:8080/"
        },
        "id": "cYJ-q7uyvA2L",
        "outputId": "d6502322-270d-4ff8-aa30-a6130973e386"
      },
      "execution_count": null,
      "outputs": [
        {
          "output_type": "stream",
          "name": "stdout",
          "text": [
            "[-1/6 - sqrt(-731/(648*(1/729 + sqrt(43402443)/15552)**(1/3)) + 2*(1/729 + sqrt(43402443)/15552)**(1/3))/2 + sqrt(-2*(1/729 + sqrt(43402443)/15552)**(1/3) + 731/(648*(1/729 + sqrt(43402443)/15552)**(1/3)) + 8/(27*sqrt(-731/(648*(1/729 + sqrt(43402443)/15552)**(1/3)) + 2*(1/729 + sqrt(43402443)/15552)**(1/3))))/2, -1/6 + sqrt(-731/(648*(1/729 + sqrt(43402443)/15552)**(1/3)) + 2*(1/729 + sqrt(43402443)/15552)**(1/3))/2 - sqrt(-8/(27*sqrt(-731/(648*(1/729 + sqrt(43402443)/15552)**(1/3)) + 2*(1/729 + sqrt(43402443)/15552)**(1/3))) - 2*(1/729 + sqrt(43402443)/15552)**(1/3) + 731/(648*(1/729 + sqrt(43402443)/15552)**(1/3)))/2, -1/6 + sqrt(-731/(648*(1/729 + sqrt(43402443)/15552)**(1/3)) + 2*(1/729 + sqrt(43402443)/15552)**(1/3))/2 + sqrt(-8/(27*sqrt(-731/(648*(1/729 + sqrt(43402443)/15552)**(1/3)) + 2*(1/729 + sqrt(43402443)/15552)**(1/3))) - 2*(1/729 + sqrt(43402443)/15552)**(1/3) + 731/(648*(1/729 + sqrt(43402443)/15552)**(1/3)))/2, -sqrt(-2*(1/729 + sqrt(43402443)/15552)**(1/3) + 731/(648*(1/729 + sqrt(43402443)/15552)**(1/3)) + 8/(27*sqrt(-731/(648*(1/729 + sqrt(43402443)/15552)**(1/3)) + 2*(1/729 + sqrt(43402443)/15552)**(1/3))))/2 - 1/6 - sqrt(-731/(648*(1/729 + sqrt(43402443)/15552)**(1/3)) + 2*(1/729 + sqrt(43402443)/15552)**(1/3))/2]\n"
          ]
        }
      ]
    },
    {
      "cell_type": "code",
      "source": [
        "#Лабораторна робота 3. Метод Ньютона (дотичних). Комбінований метод\n",
        "import numpy as np\n",
        "import numdifftools as nd\n",
        "\n",
        "def f(x):\n",
        "    return 6*x**4 + 4*x**3 + x**2 + x - 10\n",
        "\n",
        "def nuton(a, b, eps, f):\n",
        "    df1 = nd.Derivative(f, n=1)   # створюємо callable для 1-ї похідної\n",
        "    df2 = nd.Derivative(f, n=2)   # і для 2-ї\n",
        "    xi = b if f(b) * df2(b) > 0 else a\n",
        "\n",
        "    xi_1 = xi - f(xi) / df1(xi)\n",
        "    while np.abs(xi_1 - xi) > eps:\n",
        "        xi = xi_1\n",
        "        d = df1(xi)\n",
        "        if d == 0:\n",
        "            raise ZeroDivisionError(\"Похідна дорівнює нулю — зупинка.\")\n",
        "        xi_1 = xi - f(xi) / d\n",
        "\n",
        "    print('Метод Ньютона, x =', round(float(xi_1), 4))\n"
      ],
      "metadata": {
        "id": "uz6OF8g2C-vY"
      },
      "execution_count": 12,
      "outputs": []
    },
    {
      "cell_type": "code",
      "source": [
        "def komb(a, b, eps, f):\n",
        "    df2 = nd.Derivative(f, n=2)(a)\n",
        "    if f(a) * df2 > 0:\n",
        "        a0, b0 = a, b\n",
        "    else:\n",
        "        a0, b0 = b, a\n",
        "    ai, bi = a0, b0\n",
        "\n",
        "    while np.abs(ai - bi) > eps:\n",
        "        ai_1 = ai - f(ai) * (bi - ai) / (f(bi) - f(ai))\n",
        "        bi_1 = bi - f(bi) / nd.Derivative(f, n=1)(bi)\n",
        "        ai, bi = ai_1, bi_1\n",
        "\n",
        "    x = (ai_1 + bi_1) / 2\n",
        "\n",
        "    print('Комбінований метод, x = ', x.round(4))\n"
      ],
      "metadata": {
        "id": "M2T4FA4ifyy_"
      },
      "execution_count": 13,
      "outputs": []
    },
    {
      "cell_type": "code",
      "source": [
        "if __name__ == \"__main__\":\n",
        "    a1, b1 = -2, -1\n",
        "    a2, b2 = 0, 1\n",
        "    eps = 0.0001\n",
        "\n",
        "    print(\"Розв'язання на відрізку [-2, -1]\")\n",
        "    nuton(a1, b1, eps, f)\n",
        "    komb(a1, b1, eps, f)\n",
        "    print(\"\\n Розв'язання на відрізку [0, 1]\")\n",
        "    nuton(a2, b2, eps, f)\n",
        "    komb(a2, b2, eps, f)"
      ],
      "metadata": {
        "colab": {
          "base_uri": "https://localhost:8080/"
        },
        "id": "zrxTpvysf0zN",
        "outputId": "572618de-008e-4f5c-a332-cc6d694cb871"
      },
      "execution_count": 14,
      "outputs": [
        {
          "output_type": "stream",
          "name": "stdout",
          "text": [
            "Розв'язання на відрізку [-2, -1]\n",
            "Метод Ньютона, x = -1.3353\n",
            "Комбінований метод, x =  -1.3353\n",
            "\n",
            " Розв'язання на відрізку [0, 1]\n",
            "Метод Ньютона, x = 0.945\n",
            "Комбінований метод, x =  0.945\n"
          ]
        }
      ]
    },
    {
      "cell_type": "markdown",
      "source": [
        "Завдання 3. Лабораторна робота 3\n",
        "\n",
        "Тема: Відокремлення дійсних коренів рівнянь та їх уточнення методом простої ітерації."
      ],
      "metadata": {
        "id": "C_4v4wFVGXF8"
      }
    },
    {
      "cell_type": "code",
      "source": [
        "!pip install numdifftools"
      ],
      "metadata": {
        "colab": {
          "base_uri": "https://localhost:8080/"
        },
        "id": "zRCGlza7GYzR",
        "outputId": "ba3bb477-ec6f-49b7-f6ad-2768c3c819ff"
      },
      "execution_count": 21,
      "outputs": [
        {
          "output_type": "stream",
          "name": "stdout",
          "text": [
            "Requirement already satisfied: numdifftools in /usr/local/lib/python3.12/dist-packages (0.9.41)\n",
            "Requirement already satisfied: numpy>=1.9 in /usr/local/lib/python3.12/dist-packages (from numdifftools) (2.0.2)\n",
            "Requirement already satisfied: scipy>=0.8 in /usr/local/lib/python3.12/dist-packages (from numdifftools) (1.16.2)\n"
          ]
        }
      ]
    },
    {
      "cell_type": "code",
      "source": [
        "import numdifftools as nd"
      ],
      "metadata": {
        "id": "gei2dk7wGj41"
      },
      "execution_count": 22,
      "outputs": []
    },
    {
      "cell_type": "markdown",
      "source": [
        "![image.png](data:image/png;base64,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)"
      ],
      "metadata": {
        "id": "Ujsol_fJTLvw"
      }
    },
    {
      "cell_type": "markdown",
      "source": [
        "Визначаємо, що корінь належить відрізку [-2,-1]"
      ],
      "metadata": {
        "id": "Y3rWPsrLGy_b"
      }
    },
    {
      "cell_type": "code",
      "source": [
        "def f(x: float):\n",
        "    return x**3 - 2*x + 2\n",
        "\n",
        "def fprime(x: float):\n",
        "    return nd.Derivative(f, n=1)\n",
        "\n",
        "def phi(x: float):\n",
        "    # c = -0.1 (забезпечує |phi'(x)|<1 на [-2,-1])\n",
        "    c = -0.1\n",
        "\n",
        "    return x + c * f(x)\n",
        "\n",
        "def iterate_fixed_point(x0: float, iters: int = 5):\n",
        "    xs = [x0]\n",
        "    x = x0\n",
        "    for _ in range(iters):\n",
        "        x = phi(x)\n",
        "        xs.append(x)\n",
        "    return xs\n",
        "\n",
        "def error_bound(x_last: float) -> float:\n",
        "    # μ = min_{x∈[-2,-1]} |f'(x)| = 1\n",
        "    mu = 1.0\n",
        "    return abs(f(x_last)) / mu"
      ],
      "metadata": {
        "id": "Oa9a_WsbG0ui"
      },
      "execution_count": 24,
      "outputs": []
    },
    {
      "cell_type": "code",
      "source": [
        "def main():\n",
        "    x0 = -1.0 # нульове наближення має належати відрізку [-2, -1]\n",
        "\n",
        "    iters = 5\n",
        "    xs = iterate_fixed_point(x0, iters)\n",
        "\n",
        "    print(\"Fixed-point iteration for f(x) = x^3 - 2*x + 2 with phi(x) = x - 0.1*f(x)\")\n",
        "    print(f\"Interval: [-2, -1], start x0 = {x0}\")\n",
        "\n",
        "    for i, xi in enumerate(xs):\n",
        "        if i == 0:\n",
        "            print(f\"x_{i} = {xi:.10f}\")\n",
        "        else:\n",
        "            print(f\"x_{i} = phi(x_{i-1}) = {xi:.10f}\")\n",
        "    bound = error_bound(xs[-1])\n",
        "    print(\"\\nError bound after 5 iterations:  |ξ - x5| ≤ |f(x5)| / μ\")\n",
        "    print(f\"f(x5) = {f(xs[-1]):.10f},  μ = 2  ⇒  |ξ - x5| ≤ {bound:.10f}\")\n",
        "    return xs[-1], bound\n",
        "\n",
        "if __name__ == \"__main__\":\n",
        "    root_approx, bound = main()"
      ],
      "metadata": {
        "colab": {
          "base_uri": "https://localhost:8080/"
        },
        "id": "5qShUcyfG6AB",
        "outputId": "e952c4ed-4847-45a1-c406-62d64ddfcb0d"
      },
      "execution_count": 25,
      "outputs": [
        {
          "output_type": "stream",
          "name": "stdout",
          "text": [
            "Fixed-point iteration for f(x) = x^3 - 2*x + 2 with phi(x) = x - 0.1*f(x)\n",
            "Interval: [-2, -1], start x0 = -1.0\n",
            "x_0 = -1.0000000000\n",
            "x_1 = phi(x_0) = -1.3000000000\n",
            "x_2 = phi(x_1) = -1.5403000000\n",
            "x_3 = phi(x_2) = -1.6829201144\n",
            "x_4 = phi(x_3) = -1.7428641179\n",
            "x_5 = phi(x_4) = -1.7620288361\n",
            "\n",
            "Error bound after 5 iterations:  |ξ - x5| ≤ |f(x5)| / μ\n",
            "f(x5) = 0.0534063626,  μ = 2  ⇒  |ξ - x5| ≤ 0.0534063626\n"
          ]
        }
      ]
    },
    {
      "cell_type": "markdown",
      "source": [
        "Спрощений варіант коду"
      ],
      "metadata": {
        "id": "g94XaaicHCq3"
      }
    },
    {
      "cell_type": "code",
      "source": [
        "# Рівняння: f(x) = x^3 - 2*x + 2 = 0\n",
        "# Ітераційна функція: φ(x) = x - 0.1 * f(x)  (c = -0.1)\n",
        "# Початкове наближення: x0 = -1\n",
        "# Кількість ітерацій: 5\n",
        "# Оцінка похибки: |ξ - x5| ≤ |f(x5)| / μ, де μ = min_{[-2,-1]} |f'(x)| = 1\n",
        "\n",
        "def f(x):\n",
        "    return x**3 - 2*x + 2\n",
        "\n",
        "def phi(x):\n",
        "    return x - 0.1 * f(x)   # c = -0.1\n",
        "\n",
        "def fixed_point(x0=-1.0, iters=5):\n",
        "    xs = [x0]\n",
        "    for _ in range(iters):\n",
        "        xs.append(phi(xs[-1]))\n",
        "    return xs\n",
        "\n",
        "# Запуск і вивід результатів\n",
        "xs = fixed_point(-1.0, 5)\n",
        "\n",
        "for i, xi in enumerate(xs):\n",
        "    print(f\"x_{i} = {xi:.10f}\")\n",
        "\n",
        "# Похибка методу простої ітерації після 5-ї ітерації\n",
        "mu = 1.0                      # μ = min_{[-2,-1]} |3x^2 - 2| = 1\n",
        "err_bound = abs(f(xs[-1]))/mu\n",
        "print(f\"\\nОцінка похибки: |ξ - x5| ≤ {err_bound:.10f}\")"
      ],
      "metadata": {
        "colab": {
          "base_uri": "https://localhost:8080/"
        },
        "id": "em5GDi_SHFN3",
        "outputId": "0d81d201-c19a-47fd-fbcb-a71fb0df5f0e"
      },
      "execution_count": 26,
      "outputs": [
        {
          "output_type": "stream",
          "name": "stdout",
          "text": [
            "x_0 = -1.0000000000\n",
            "x_1 = -1.3000000000\n",
            "x_2 = -1.5403000000\n",
            "x_3 = -1.6829201144\n",
            "x_4 = -1.7428641179\n",
            "x_5 = -1.7620288361\n",
            "\n",
            "Оцінка похибки: |ξ - x5| ≤ 0.0534063626\n"
          ]
        }
      ]
    }
  ]
}
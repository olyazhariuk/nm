{
  "nbformat": 4,
  "nbformat_minor": 0,
  "metadata": {
    "colab": {
      "provenance": [],
      "include_colab_link": true
    },
    "kernelspec": {
      "name": "python3",
      "display_name": "Python 3"
    },
    "language_info": {
      "name": "python"
    }
  },
  "cells": [
    {
      "cell_type": "markdown",
      "metadata": {
        "id": "view-in-github",
        "colab_type": "text"
      },
      "source": [
        "<a href=\"https://colab.research.google.com/github/olyazhariuk/nm/blob/main/%22%D0%A2%D0%B5%D0%BC%D0%B0_1_%D0%9F%D1%80%D0%B8%D0%BA%D0%BB%D0%B0%D0%B4%D0%B8_%D0%BF%D0%BE%D1%85%D0%B8%D0%B1%D0%BA%D0%B8_ipynb%22.ipynb\" target=\"_parent\"><img src=\"https://colab.research.google.com/assets/colab-badge.svg\" alt=\"Open In Colab\"/></a>"
      ]
    },
    {
      "cell_type": "code",
      "execution_count": 1,
      "metadata": {
        "colab": {
          "base_uri": "https://localhost:8080/"
        },
        "id": "o6C05dIo6S8t",
        "outputId": "fbe3d580-1c26-48cf-d254-b10b4aed07c7"
      },
      "outputs": [
        {
          "output_type": "execute_result",
          "data": {
            "text/plain": [
              "0.0002"
            ]
          },
          "metadata": {},
          "execution_count": 1
        }
      ],
      "source": [
        "0.0001 + 0.0001"
      ]
    },
    {
      "cell_type": "code",
      "source": [
        "0.00085 + 0.00015"
      ],
      "metadata": {
        "colab": {
          "base_uri": "https://localhost:8080/"
        },
        "id": "9B1MiepWXUPC",
        "outputId": "8113cf0e-3294-4339-fd8a-7a3e249b1e65"
      },
      "execution_count": 2,
      "outputs": [
        {
          "output_type": "execute_result",
          "data": {
            "text/plain": [
              "0.001"
            ]
          },
          "metadata": {},
          "execution_count": 2
        }
      ]
    },
    {
      "cell_type": "code",
      "source": [
        "0.3*3"
      ],
      "metadata": {
        "colab": {
          "base_uri": "https://localhost:8080/"
        },
        "id": "qxnWv5tkXjgM",
        "outputId": "9a62b39f-0903-47dd-ca40-c072f62f1aa6"
      },
      "execution_count": 3,
      "outputs": [
        {
          "output_type": "execute_result",
          "data": {
            "text/plain": [
              "0.8999999999999999"
            ]
          },
          "metadata": {},
          "execution_count": 3
        }
      ]
    },
    {
      "cell_type": "code",
      "source": [
        "# Приклад 1: неточність обчислень з плаваючою комою\n",
        "0.009 + 0.001  # Очікуємо 0.010, але отримаємо 0.009999999999999998"
      ],
      "metadata": {
        "colab": {
          "base_uri": "https://localhost:8080/"
        },
        "id": "HVus0LMb6Y7o",
        "outputId": "0c3b52bf-9f16-4bd1-f620-5358fa00edbc"
      },
      "execution_count": 4,
      "outputs": [
        {
          "output_type": "execute_result",
          "data": {
            "text/plain": [
              "0.009999999999999998"
            ]
          },
          "metadata": {},
          "execution_count": 4
        }
      ]
    },
    {
      "cell_type": "code",
      "source": [
        "# Приклад 2: неточність при відніманні\n",
        "0.3 - 0.2  # Очікуємо 0.1, але отримаємо 0.09999999999999998\n"
      ],
      "metadata": {
        "colab": {
          "base_uri": "https://localhost:8080/"
        },
        "id": "DlpfEvpF6xfe",
        "outputId": "5db673f4-98d1-46ef-c7c3-02e4acb1a193"
      },
      "execution_count": 5,
      "outputs": [
        {
          "output_type": "execute_result",
          "data": {
            "text/plain": [
              "0.09999999999999998"
            ]
          },
          "metadata": {},
          "execution_count": 5
        }
      ]
    },
    {
      "cell_type": "code",
      "source": [
        "0.5 - 0.4"
      ],
      "metadata": {
        "colab": {
          "base_uri": "https://localhost:8080/"
        },
        "id": "zXyb8L3bqmEI",
        "outputId": "113cd5fc-68c2-45b9-e0ba-2354d1ebba2f"
      },
      "execution_count": 6,
      "outputs": [
        {
          "output_type": "execute_result",
          "data": {
            "text/plain": [
              "0.09999999999999998"
            ]
          },
          "metadata": {},
          "execution_count": 6
        }
      ]
    },
    {
      "cell_type": "code",
      "source": [
        "0.45 - 0.44"
      ],
      "metadata": {
        "colab": {
          "base_uri": "https://localhost:8080/"
        },
        "id": "mmwSViwzYGDW",
        "outputId": "fd65c533-f8ce-45cd-ccfc-3f246fd73866"
      },
      "execution_count": 7,
      "outputs": [
        {
          "output_type": "execute_result",
          "data": {
            "text/plain": [
              "0.010000000000000009"
            ]
          },
          "metadata": {},
          "execution_count": 7
        }
      ]
    },
    {
      "cell_type": "code",
      "source": [
        "# Приклад 3: неточність при множенні\n",
        "0.1 * 3  # Очікуємо 0.3, але отримаємо 0.30000000000000004"
      ],
      "metadata": {
        "colab": {
          "base_uri": "https://localhost:8080/"
        },
        "id": "jvPDaD0J60Lu",
        "outputId": "0db41f76-2457-4581-d4ce-4a9913627d92"
      },
      "execution_count": 8,
      "outputs": [
        {
          "output_type": "execute_result",
          "data": {
            "text/plain": [
              "0.30000000000000004"
            ]
          },
          "metadata": {},
          "execution_count": 8
        }
      ]
    },
    {
      "cell_type": "code",
      "source": [
        "0.33 * 0.3\n"
      ],
      "metadata": {
        "colab": {
          "base_uri": "https://localhost:8080/"
        },
        "id": "op-ukjVIYhb_",
        "outputId": "7ddcd995-98c2-4677-b6a3-b85a65bad65c"
      },
      "execution_count": 9,
      "outputs": [
        {
          "output_type": "execute_result",
          "data": {
            "text/plain": [
              "0.099"
            ]
          },
          "metadata": {},
          "execution_count": 9
        }
      ]
    },
    {
      "cell_type": "code",
      "source": [
        "# Приклад 4: як виправити проблему за допомогою модуля decimal\n",
        "from decimal import Decimal\n",
        "\n",
        "print(Decimal('0.3') - Decimal('0.2'))  # Отримаємо точно 0.1"
      ],
      "metadata": {
        "colab": {
          "base_uri": "https://localhost:8080/"
        },
        "id": "RvvGJ94w63Ky",
        "outputId": "3b188acb-1480-4ca6-f2bf-9b77b82b22f0"
      },
      "execution_count": 10,
      "outputs": [
        {
          "output_type": "stream",
          "name": "stdout",
          "text": [
            "0.1\n"
          ]
        }
      ]
    },
    {
      "cell_type": "code",
      "source": [
        "# Приклад 5: округлення значення\n",
        "print(round(0.3 - 0.2, 10))  # Отримаємо 0.1 без неточностi"
      ],
      "metadata": {
        "colab": {
          "base_uri": "https://localhost:8080/"
        },
        "id": "X0m19nP4656I",
        "outputId": "719d40b9-c30a-47c0-fa03-93b1d34076cd"
      },
      "execution_count": 11,
      "outputs": [
        {
          "output_type": "stream",
          "name": "stdout",
          "text": [
            "0.1\n"
          ]
        }
      ]
    },
    {
      "cell_type": "code",
      "source": [
        "# Приклад 6: розрахунок площі кімнати з похибкою\n",
        "room_length = 15.3\n",
        "room_width = 3\n",
        "laminate_area = room_length * room_width\n",
        "print(\"Площа кімнати:\", laminate_area)\n",
        "\n",
        "# Виправлення з використанням Decimal\n",
        "print(\"Площа кімнати (точно):\", Decimal(str(room_length)) * Decimal(str(room_width)))"
      ],
      "metadata": {
        "colab": {
          "base_uri": "https://localhost:8080/"
        },
        "id": "d9v1zlu57NfA",
        "outputId": "b6d592e5-ad2a-4b9e-cf5b-581c77b68d17"
      },
      "execution_count": 12,
      "outputs": [
        {
          "output_type": "stream",
          "name": "stdout",
          "text": [
            "Площа кімнати: 45.900000000000006\n",
            "Площа кімнати (точно): 45.9\n"
          ]
        }
      ]
    },
    {
      "cell_type": "code",
      "source": [
        "a = 0.3 * 0.5\n",
        "a"
      ],
      "metadata": {
        "colab": {
          "base_uri": "https://localhost:8080/"
        },
        "id": "B6z9o9_mZ3N7",
        "outputId": "e9d06015-f80f-4ded-ce4e-3dc63a3f6786"
      },
      "execution_count": 13,
      "outputs": [
        {
          "output_type": "execute_result",
          "data": {
            "text/plain": [
              "0.15"
            ]
          },
          "metadata": {},
          "execution_count": 13
        }
      ]
    },
    {
      "cell_type": "code",
      "source": [
        "b = 5.0 * 9.0\n",
        "b"
      ],
      "metadata": {
        "colab": {
          "base_uri": "https://localhost:8080/"
        },
        "id": "NjjF1QQlaAnb",
        "outputId": "4aa2b71e-d53f-41e5-dd93-a2abce1183be"
      },
      "execution_count": 14,
      "outputs": [
        {
          "output_type": "execute_result",
          "data": {
            "text/plain": [
              "45.0"
            ]
          },
          "metadata": {},
          "execution_count": 14
        }
      ]
    },
    {
      "cell_type": "code",
      "source": [
        "b/ a"
      ],
      "metadata": {
        "colab": {
          "base_uri": "https://localhost:8080/"
        },
        "id": "VvPxn_vaaF4U",
        "outputId": "b7ff3bba-9a88-4b28-8c10-b11803d1abc2"
      },
      "execution_count": 15,
      "outputs": [
        {
          "output_type": "execute_result",
          "data": {
            "text/plain": [
              "300.0"
            ]
          },
          "metadata": {},
          "execution_count": 15
        }
      ]
    },
    {
      "cell_type": "code",
      "source": [
        "300 * a"
      ],
      "metadata": {
        "colab": {
          "base_uri": "https://localhost:8080/"
        },
        "id": "omYTWClAaOkg",
        "outputId": "a05461e5-154c-495f-b3ad-739189f833f9"
      },
      "execution_count": 16,
      "outputs": [
        {
          "output_type": "execute_result",
          "data": {
            "text/plain": [
              "45.0"
            ]
          },
          "metadata": {},
          "execution_count": 16
        }
      ]
    },
    {
      "cell_type": "code",
      "source": [
        "\n",
        "# Приклад 7: неточність при діленні\n",
        "print(1 / 3)  # Очікуємо 0.333..., але отримаємо 0.3333333333333333\n",
        "\n"
      ],
      "metadata": {
        "colab": {
          "base_uri": "https://localhost:8080/"
        },
        "id": "QO9u_uBo7Xxc",
        "outputId": "a01565ae-c893-4acc-e7aa-bdf9103a6f18"
      },
      "execution_count": 17,
      "outputs": [
        {
          "output_type": "stream",
          "name": "stdout",
          "text": [
            "0.3333333333333333\n"
          ]
        }
      ]
    },
    {
      "cell_type": "code",
      "source": [
        "# Виправлення з використанням Decimal\n",
        "print(Decimal('1') / Decimal('3'))  # Отримаємо точне значення\n"
      ],
      "metadata": {
        "colab": {
          "base_uri": "https://localhost:8080/"
        },
        "id": "bD_o8BYS7bAA",
        "outputId": "d58b5afe-3f6e-4b90-9c1a-85ca80ba77b2"
      },
      "execution_count": 18,
      "outputs": [
        {
          "output_type": "stream",
          "name": "stdout",
          "text": [
            "0.3333333333333333333333333333\n"
          ]
        }
      ]
    },
    {
      "cell_type": "code",
      "source": [
        "# Приклад 8: неточність при множенні дробів\n",
        "print(0.1 * 0.2)  # Очікуємо 0.02, але отримаємо 0.020000000000000004\n",
        "\n",
        "# Виправлення з використанням Decimal\n",
        "print(Decimal('0.1') * Decimal('0.2'))  # Отримаємо точно 0.02"
      ],
      "metadata": {
        "colab": {
          "base_uri": "https://localhost:8080/"
        },
        "id": "o6_JegY67f8Y",
        "outputId": "05de15d9-05cf-4c4b-f670-f7968288d7a1"
      },
      "execution_count": 19,
      "outputs": [
        {
          "output_type": "stream",
          "name": "stdout",
          "text": [
            "0.020000000000000004\n",
            "0.02\n"
          ]
        }
      ]
    }
  ]
}